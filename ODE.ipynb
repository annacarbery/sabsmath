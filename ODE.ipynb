{
 "cells": [
  {
   "cell_type": "code",
   "execution_count": 1,
   "metadata": {},
   "outputs": [],
   "source": [
    "import numpy as np\n",
    "import matplotlib.pyplot as plt\n",
    "from scipy.integrate import solve_ivp"
   ]
  },
  {
   "cell_type": "code",
   "execution_count": 3,
   "metadata": {},
   "outputs": [],
   "source": [
    "# v = [C2, CP, M, pM, Y, YP]\n",
    "\n",
    "\n",
    "# Rate Constants\n",
    "k1aaCT  = 0.015\n",
    "k2      = 0\n",
    "k3CT    = 200\n",
    "k4      = 180 # adjustable\n",
    "k4prime = 0.018\n",
    "k5tilP  = 0\n",
    "k6      = 1 # adjustable\n",
    "k7      = 0.6\n",
    "k8tilP  = 50 # >> k9\n",
    "k9      = 10 # >> k6\n",
    "\n",
    "\n",
    "# Initial Conditions\n",
    "dC20 = 10\n",
    "dCP0 = 0\n",
    "dpM0 = 0\n",
    "dM0  = 0\n",
    "dY0  = 0\n",
    "dYP0 = 0\n",
    "t0 = 0\n",
    "tf = 1\n",
    "\n",
    "\n",
    "def system(t, v):\n",
    "    dC2 = k6*v[2] - k8tilP*v[0] + k9*v[1]\n",
    "    dCP = -k3CT*v[1]*v[4]/(v[0]+v[1]+v[2]+v[3]) + k8tilP*v[0] - k9*v[1]\n",
    "    dpM = k3CT*v[1]*v[4]/(v[0]+v[1]+v[2]+v[3]) - v[3]*(k4prime + k4*v[2]/(v[0] + v[1])**2) + k5tilP*v[2]\n",
    "    dM  = v[3]*(k4prime + k4*v[2]/(v[0] + v[1])**2) - k5tilP*v[2] - k6*v[2]\n",
    "    dY  = k1aaCT*(v[0]+v[1]+v[2]+v[3]) - k2*v[4] - k3CT*v[1]*v[4]/(v[0]+v[1]+v[2]+v[3])\n",
    "    dYP = k6*v[2] - k7*v[5]\n",
    "    return [dC2, dCP, dpM, dM, dY, dYP]\n",
    "\n",
    "solution = solve_ivp(system, (t0, tf), [dC20, dCP0, dpM0, dM0, dY0, dYP0])\n",
    "\n",
    "\n",
    "C2 = solution.y[0]\n",
    "CP = solution.y[1]\n",
    "pM = solution.y[2]\n",
    "M  = solution.y[3]\n",
    "Y  = solution.y[4]\n",
    "YP = solution.y[5]\n",
    "\n",
    "YT = Y + YP + pM + M\n",
    "CT = C2 + CP + pM + M\n",
    "\n",
    "    "
   ]
  },
  {
   "cell_type": "code",
   "execution_count": 5,
   "metadata": {},
   "outputs": [
    {
     "data": {
      "image/png": "[encoded data removed]",
      "text/plain": [
       "<Figure size 432x288 with 1 Axes>"
      ]
     },
     "metadata": {
      "needs_background": "light"
     },
     "output_type": "display_data"
    }
   ],
   "source": [
    "plt.plot(solution.t, M/CT)\n",
    "plt.show()"
   ]
  },
  {
   "cell_type": "code",
   "execution_count": null,
   "metadata": {},
   "outputs": [],
   "source": []
  }
 ],
 "metadata": {
  "kernelspec": {
   "display_name": "Python 3",
   "language": "python",
   "name": "python3"
  },
  "language_info": {
   "codemirror_mode": {
    "name": "ipython",
    "version": 3
   },
   "file_extension": ".py",
   "mimetype": "text/x-python",
   "name": "python",
   "nbconvert_exporter": "python",
   "pygments_lexer": "ipython3",
   "version": "3.7.4"
  }
 },
 "nbformat": 4,
 "nbformat_minor": 2
}
